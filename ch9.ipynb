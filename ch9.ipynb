{
 "cells": [
  {
   "cell_type": "code",
   "execution_count": null,
   "id": "268c3dd5",
   "metadata": {},
   "outputs": [
    {
     "name": "stdout",
     "output_type": "stream",
     "text": [
      "Original number of features: 64\n",
      "Reduced number of features: 54\n"
     ]
    }
   ],
   "source": [
    "#9.1 Reducing Features Using Principal Components\n",
    "\n",
    "# Load libraries\n",
    "from sklearn.preprocessing import StandardScaler #avg = 0 and std = 1\n",
    "from sklearn.decomposition import PCA # یافتن مولفه اصلی برای کاهش بعد\n",
    "from sklearn import datasets\n",
    "\n",
    "# Load the data\n",
    "digits = datasets.load_digits()\n",
    "\n",
    "# Standardize the feature matrix\n",
    "features = StandardScaler().fit_transform(digits.data)\n",
    "\n",
    "# Create a PCA that will retain 99% of variance\n",
    "pca = PCA(n_components=0.99, whiten=True)\n",
    "\n",
    "# Conduct PCA\n",
    "features_pca = pca.fit_transform(features)\n",
    "\n",
    "# Show results\n",
    "print(\"Original number of features:\", features.shape[1])\n",
    "print(\"Reduced number of features:\", features_pca.shape[1])"
   ]
  },
  {
   "cell_type": "code",
   "execution_count": null,
   "id": "8a928a79",
   "metadata": {},
   "outputs": [
    {
     "name": "stdout",
     "output_type": "stream",
     "text": [
      "Original number of features: 2\n",
      "Reduced number of features: 1\n"
     ]
    }
   ],
   "source": [
    "#9.2 Reducing Features When Data Is Linearly Inseparable\n",
    "\n",
    "# Load libraries\n",
    "from sklearn.decomposition import PCA, KernelPCA\n",
    "from sklearn.datasets import make_circles\n",
    "\n",
    "# Create linearly inseparable data\n",
    "features, _ = make_circles(n_samples=1000, random_state=1, noise=0.1, factor=0.1)\n",
    "#factor=0.1 → نسبت شعاع دایره داخلی به دایره بیرونی \n",
    "\n",
    "# Apply kernel PCA with radius basis function (RBF) kernel\n",
    "kpca = KernelPCA(kernel='rbf', gamma=15, n_components=1)\n",
    "# kernel='rbf' -> برای جدا کردن داده های غیر خطی \n",
    "# gamma=15 -> هر نقطه چه میزان بر نقاط دیگر اثر بگذار\n",
    "# components=1 -> داده را به یک مؤلفه اصلی کاهش می‌دهد\n",
    "\n",
    "features_kpca = kpca.fit_transform(features)\n",
    "\n",
    "# Show results\n",
    "print(\"Original number of features:\", features.shape[1])\n",
    "print(\"Reduced number of features:\", features_kpca.shape[1])"
   ]
  },
  {
   "cell_type": "code",
   "execution_count": 7,
   "id": "83091609",
   "metadata": {},
   "outputs": [
    {
     "name": "stdout",
     "output_type": "stream",
     "text": [
      "Original number of features: 4\n",
      "Reduced number of features: 1\n"
     ]
    }
   ],
   "source": [
    "#9.3 Reducing Features by Maximizing Class Separability\n",
    "\n",
    "# Load libraries\n",
    "from sklearn import datasets\n",
    "from sklearn.discriminant_analysis import LinearDiscriminantAnalysis\n",
    "\n",
    "# Load Iris flower dataset:\n",
    "iris = datasets.load_iris()\n",
    "features = iris.data\n",
    "target = iris.target\n",
    "\n",
    "# Create and run an LDA, then use it to transform the features\n",
    "lda = LinearDiscriminantAnalysis(n_components=1)\n",
    "features_lda = lda.fit(features, target).transform(features)\n",
    "\n",
    "# Print the number of features\n",
    "print(\"Original number of features:\", features.shape[1])\n",
    "print(\"Reduced number of features:\", features_lda.shape[1])"
   ]
  },
  {
   "cell_type": "code",
   "execution_count": 8,
   "id": "1aa8a57b",
   "metadata": {},
   "outputs": [
    {
     "data": {
      "text/plain": [
       "1"
      ]
     },
     "execution_count": 8,
     "metadata": {},
     "output_type": "execute_result"
    }
   ],
   "source": [
    "# Create and run LDA\n",
    "lda = LinearDiscriminantAnalysis(n_components=None)\n",
    "features_lda = lda.fit(features, target)\n",
    "\n",
    "# Create array of explained variance ratios\n",
    "lda_var_ratios = lda.explained_variance_ratio_\n",
    "\n",
    "# Create function\n",
    "def select_n_components(var_ratio, goal_var:float) -> int:\n",
    "    # Set initial variance explained so far\n",
    "    total_variance = 0.0\n",
    "\n",
    "    # Set initial number of features\n",
    "    n_components = 0\n",
    "\n",
    "    # For the explained variance of each feature:\n",
    "    for explained_variance  in var_ratio:\n",
    "\n",
    "        # Add the explained variance to the total\n",
    "        total_variance += explained_variance\n",
    "\n",
    "        # Add one to the number of components\n",
    "        n_components += 1\n",
    "\n",
    "        # If we reach our goal level of explained variance\n",
    "        if total_variance >= goal_var:\n",
    "            # End the loop\n",
    "            break\n",
    "    \n",
    "    # Return the number of components\n",
    "    return n_components\n",
    "\n",
    "# Run function\n",
    "select_n_components(lda_var_ratios, 0.95)"
   ]
  },
  {
   "cell_type": "code",
   "execution_count": 9,
   "id": "90d0ab45",
   "metadata": {},
   "outputs": [
    {
     "name": "stdout",
     "output_type": "stream",
     "text": [
      "Original number of features: 64\n",
      "Reduced number of features: 10\n"
     ]
    }
   ],
   "source": [
    "#9.4 Reducing Features Using Matrix Factorization\n",
    "\n",
    "# Load libraries\n",
    "from sklearn.decomposition import NMF\n",
    "from sklearn import datasets\n",
    "\n",
    "# Load the data\n",
    "digits = datasets.load_digits()\n",
    "\n",
    "# Load feature matrix\n",
    "features = digits.data\n",
    "\n",
    "# Create, fit, and apply NMF\n",
    "nmf = NMF(n_components=10, random_state=4)\n",
    "features_nmf = nmf.fit_transform(features)\n",
    "\n",
    "# Show results\n",
    "print(\"Original number of features:\", features.shape[1])\n",
    "print(\"Reduced number of features:\", features_nmf.shape[1])"
   ]
  },
  {
   "cell_type": "code",
   "execution_count": 13,
   "id": "502883cc",
   "metadata": {},
   "outputs": [
    {
     "name": "stdout",
     "output_type": "stream",
     "text": [
      "Original number of features: 64\n",
      "Reduced number of features: 1\n"
     ]
    }
   ],
   "source": [
    "#9.5 Reducing Features on Sparse Data\n",
    "\n",
    "# Load libraries\n",
    "from sklearn.preprocessing import StandardScaler\n",
    "from sklearn.decomposition import TruncatedSVD\n",
    "from scipy.sparse import csr_matrix\n",
    "from sklearn import datasets\n",
    "import numpy as np\n",
    "\n",
    "# Load the data\n",
    "digits = datasets.load_digits()\n",
    "\n",
    "# Standardize feature matrix\n",
    "features = StandardScaler().fit_transform(digits.data)\n",
    "\n",
    "# Make sparse matrix\n",
    "features_sparse = csr_matrix(features)\n",
    "\n",
    "# Create a TSVD\n",
    "tsvd = TruncatedSVD(n_components=1)\n",
    "\n",
    "# Conduct TSVD on sparse matrix\n",
    "features_sparse_tsvd = tsvd.fit(features_sparse).transform(features_sparse)\n",
    "\n",
    "# Show results\n",
    "print(\"Original number of features:\", features_sparse.shape[1])\n",
    "print(\"Reduced number of features:\", features_sparse_tsvd.shape[1])"
   ]
  },
  {
   "cell_type": "code",
   "execution_count": 14,
   "id": "20934b22",
   "metadata": {},
   "outputs": [
    {
     "data": {
      "text/plain": [
       "np.float64(0.12033915975482297)"
      ]
     },
     "execution_count": 14,
     "metadata": {},
     "output_type": "execute_result"
    }
   ],
   "source": [
    "# Sum of first three components' explained variance ratios\n",
    "tsvd.explained_variance_ratio_[0:3].sum()"
   ]
  },
  {
   "cell_type": "code",
   "execution_count": 15,
   "id": "6c52c55b",
   "metadata": {},
   "outputs": [
    {
     "data": {
      "text/plain": [
       "40"
      ]
     },
     "execution_count": 15,
     "metadata": {},
     "output_type": "execute_result"
    }
   ],
   "source": [
    "# Create and run a TSVD with one less than number of features\n",
    "tsvd = TruncatedSVD(n_components=features_sparse.shape[1]-1)\n",
    "features_tsvd = tsvd.fit(features)\n",
    "\n",
    "# List of explained variances\n",
    "tsvd_var_ratios = tsvd.explained_variance_ratio_\n",
    "\n",
    "# Create a function\n",
    "def select_n_components(var_ratio, goal_var):\n",
    "    # Set initial variance explained so far\n",
    "    total_variance = 0.0\n",
    "\n",
    "    # Set initial number of features\n",
    "    n_components = 0\n",
    "\n",
    "    # For the explained variance of each feature:\n",
    "    for explained_variance in var_ratio:\n",
    "\n",
    "        # Add the explained variance to the total\n",
    "        total_variance += explained_variance\n",
    "\n",
    "        # Add one to the number of components\n",
    "        n_components += 1\n",
    "\n",
    "        # If we reach our goal level of explained variance\n",
    "        if total_variance >= goal_var:\n",
    "            # End the loop\n",
    "            break\n",
    "    \n",
    "    # Return the number of components\n",
    "    return n_components\n",
    "\n",
    "# Run function\n",
    "select_n_components(tsvd_var_ratios, 0.95)"
   ]
  }
 ],
 "metadata": {
  "kernelspec": {
   "display_name": "py-venv",
   "language": "python",
   "name": "python3"
  },
  "language_info": {
   "codemirror_mode": {
    "name": "ipython",
    "version": 3
   },
   "file_extension": ".py",
   "mimetype": "text/x-python",
   "name": "python",
   "nbconvert_exporter": "python",
   "pygments_lexer": "ipython3",
   "version": "3.10.18"
  }
 },
 "nbformat": 4,
 "nbformat_minor": 5
}
