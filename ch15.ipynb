{
 "cells": [
  {
   "cell_type": "code",
   "execution_count": 4,
   "id": "491de881",
   "metadata": {},
   "outputs": [
    {
     "data": {
      "text/plain": [
       "array([[[-1.62768839, -1.74335684, -1.39706395, -1.18381211],\n",
       "        [-1.87002413, -0.13197948, -1.51073881, -1.44707648]]])"
      ]
     },
     "execution_count": 4,
     "metadata": {},
     "output_type": "execute_result"
    }
   ],
   "source": [
    "#15.1 Finding an Observation’s Nearest Neighbors\n",
    "\n",
    "# Load libraries\n",
    "from sklearn import datasets\n",
    "from sklearn.neighbors import NearestNeighbors\n",
    "from sklearn.preprocessing import StandardScaler\n",
    "\n",
    "# Load data\n",
    "iris = datasets.load_iris()\n",
    "features= iris.data\n",
    "\n",
    "# Create standardizer\n",
    "standardizer = StandardScaler()\n",
    "\n",
    "# Standardize features\n",
    "features_standardized = standardizer.fit_transform(features)\n",
    "\n",
    "# Two nearest neighbors\n",
    "nearest_neighbors = NearestNeighbors(n_neighbors=2).fit(features,features_standardized)\n",
    "\n",
    "# Create an observation\n",
    "new_observation = [1, 1, 1, 1]\n",
    "\n",
    "# Find distances and indices of the observation's nearest neighbors\n",
    "distances, indices = nearest_neighbors.kneighbors([new_observation])\n",
    "\n",
    "# View the nearest neighbors\n",
    "features_standardized[indices]\n"
   ]
  },
  {
   "cell_type": "code",
   "execution_count": 6,
   "id": "15deef5e",
   "metadata": {},
   "outputs": [
    {
     "data": {
      "text/plain": [
       "array([[3.81051178, 3.96358424]])"
      ]
     },
     "execution_count": 6,
     "metadata": {},
     "output_type": "execute_result"
    }
   ],
   "source": [
    "# Find two nearest neighbors based on Euclidean distance\n",
    "nearestneighbors_euclidean  = NearestNeighbors(\n",
    "    n_neighbors=2,metric='euclidean'\n",
    ").fit(features_standardized)\n",
    "\n",
    "# View distances\n",
    "distances"
   ]
  },
  {
   "cell_type": "code",
   "execution_count": 11,
   "id": "78cb7db9",
   "metadata": {},
   "outputs": [
    {
     "data": {
      "text/plain": [
       "array([0., 0., 0., 0., 0., 0., 0., 0., 0., 0., 0., 0., 0., 0., 0., 0., 0.,\n",
       "       1., 0., 0., 0., 0., 0., 0., 0., 0., 0., 1., 0., 0., 0., 0., 0., 0.,\n",
       "       0., 0., 0., 0., 0., 0., 0., 0., 0., 0., 0., 0., 0., 0., 0., 0., 0.,\n",
       "       0., 0., 0., 0., 0., 0., 0., 0., 0., 0., 0., 0., 0., 0., 0., 0., 0.,\n",
       "       0., 0., 0., 0., 0., 0., 0., 0., 0., 0., 0., 0., 0., 0., 0., 0., 0.,\n",
       "       0., 0., 0., 0., 0., 0., 0., 0., 0., 0., 0., 0., 0., 0., 0., 0., 0.,\n",
       "       0., 0., 0., 0., 0., 0., 0., 0., 0., 0., 0., 0., 0., 0., 0., 0., 0.,\n",
       "       0., 0., 0., 0., 0., 0., 0., 0., 0., 0., 0., 0., 0., 0., 0., 0., 0.,\n",
       "       0., 0., 0., 0., 0., 0., 0., 0., 0., 0., 0., 0., 0., 0.])"
      ]
     },
     "execution_count": 11,
     "metadata": {},
     "output_type": "execute_result"
    }
   ],
   "source": [
    "# Find each observation's three nearest neighbors\n",
    "# based on Euclidean distance (including itself)\n",
    "nearestneighbors_euclidean = NearestNeighbors(\n",
    "    n_neighbors=3, metric='euclidean'\n",
    ").fit(features_standardized)\n",
    "\n",
    "# List of lists indicating each observation's three nearest neighbors\n",
    "# (including itself)\n",
    "nearest_neighbors_with_self = nearestneighbors_euclidean.kneighbors_graph(\n",
    "    features_standardized\n",
    ").toarray()\n",
    "\n",
    "# Remove 1s marking an observation is a nearest neighbor to itself\n",
    "for i, x in enumerate(nearest_neighbors_with_self):\n",
    "    x[i] = 0\n",
    "\n",
    "# View first observation's two nearest neighbors\n",
    "nearest_neighbors_with_self[0]"
   ]
  },
  {
   "cell_type": "code",
   "execution_count": 13,
   "id": "df2f4560",
   "metadata": {},
   "outputs": [
    {
     "data": {
      "text/plain": [
       "array([1, 2])"
      ]
     },
     "execution_count": 13,
     "metadata": {},
     "output_type": "execute_result"
    }
   ],
   "source": [
    "#15.2 Creating a K-Nearest Neighbors Classifier\n",
    "\n",
    "# Load libraries\n",
    "from sklearn.neighbors import KNeighborsClassifier\n",
    "from sklearn.preprocessing import StandardScaler\n",
    "from sklearn import datasets\n",
    "\n",
    "# Load data\n",
    "iris = datasets.load_iris()\n",
    "x = iris.data\n",
    "y = iris.target\n",
    "\n",
    "# Create standardizer\n",
    "standardizer = StandardScaler()\n",
    "\n",
    "# Standardize features\n",
    "x_std = standardizer.fit_transform(x)\n",
    "\n",
    "# Train a KNN classifier with 5 neighbors\n",
    "knn = KNeighborsClassifier(n_neighbors=5, n_jobs=-1,).fit(x_std, y)\n",
    "\n",
    "# Create two observations\n",
    "new_observation = [[0.75, 0.75, 0.75, 0.75],\n",
    "                   [1, 1, 1 ,1]]\n",
    "\n",
    "# Predict the class of two observations\n",
    "knn.predict(new_observation)"
   ]
  },
  {
   "cell_type": "code",
   "execution_count": null,
   "id": "49a75bc1",
   "metadata": {},
   "outputs": [
    {
     "data": {
      "text/plain": [
       "array([[0. , 0.6, 0.4],\n",
       "       [0. , 0. , 1. ]])"
      ]
     },
     "execution_count": 14,
     "metadata": {},
     "output_type": "execute_result"
    }
   ],
   "source": [
    "# View probability that each observation is one of three classes\n",
    "knn.predict_proba(new_observation) # کلاس با بیشترین احتمال به عنوان کلاس پیش‌بینی شده انتخاب می‌شود"
   ]
  },
  {
   "cell_type": "code",
   "execution_count": 15,
   "id": "437908fd",
   "metadata": {},
   "outputs": [
    {
     "data": {
      "text/plain": [
       "array([1, 2])"
      ]
     },
     "execution_count": 15,
     "metadata": {},
     "output_type": "execute_result"
    }
   ],
   "source": [
    "knn.predict(new_observation)"
   ]
  },
  {
   "cell_type": "code",
   "execution_count": null,
   "id": "a2121fca",
   "metadata": {},
   "outputs": [
    {
     "data": {
      "text/plain": [
       "6"
      ]
     },
     "execution_count": 16,
     "metadata": {},
     "output_type": "execute_result"
    }
   ],
   "source": [
    "#15.3 Identifying the Best Neighborhood Size\n",
    "\n",
    "# Load libraries\n",
    "from sklearn.neighbors import KNeighborsClassifier\n",
    "from sklearn import datasets\n",
    "from sklearn.preprocessing import StandardScaler\n",
    "from sklearn.pipeline import Pipeline, FeatureUnion\n",
    "from sklearn.model_selection import GridSearchCV\n",
    "\n",
    "# Load data\n",
    "iris = datasets.load_iris()\n",
    "features = iris.data\n",
    "target = iris.target\n",
    "\n",
    "# Create standardizer\n",
    "standardizer = StandardScaler()\n",
    "\n",
    "# Create a KNN classifier\n",
    "knn = KNeighborsClassifier(n_neighbors=5, n_jobs=-1)\n",
    "\n",
    "# Create a pipeline\n",
    "pipe = Pipeline([('standardizer', standardizer),('knn', knn)])\n",
    "# تضمین می‌کند که هر بار که داده‌ها وارد مدل می‌شوند، ابتدا استانداردسازی اعمال شود\n",
    "\n",
    "# Create space of candidate values\n",
    "search_space = [{'knn__n_neighbors': [1, 2, 3, 4, 5, 6, 7, 8, 9 ,10]}]\n",
    "\n",
    "# Create grid search\n",
    "classifier = GridSearchCV(\n",
    "    pipe, search_space, cv=5, verbose=0\n",
    ").fit(features_standardized, target)\n",
    "\n",
    "# Best neighborhood size (k)\n",
    "classifier.best_estimator_.get_params()['knn__n_neighbors']"
   ]
  },
  {
   "cell_type": "code",
   "execution_count": 17,
   "id": "e5be6557",
   "metadata": {},
   "outputs": [
    {
     "data": {
      "text/plain": [
       "array([2])"
      ]
     },
     "execution_count": 17,
     "metadata": {},
     "output_type": "execute_result"
    }
   ],
   "source": [
    "#15.4 Creating a Radius-Based Nearest Neighbors Classifier\n",
    "\n",
    "# Load libraries\n",
    "from sklearn.neighbors import RadiusNeighborsClassifier\n",
    "from sklearn.preprocessing import StandardScaler\n",
    "from sklearn import datasets\n",
    "\n",
    "# Load data\n",
    "iris = datasets.load_iris()\n",
    "features = iris.data\n",
    "target = iris.target\n",
    "\n",
    "# Create standardizer\n",
    "standardizer = StandardScaler()\n",
    "\n",
    "# Standardize features\n",
    "features_standardized = standardizer.fit_transform(features)\n",
    "\n",
    "# Train a radius neighbors classifier\n",
    "rnn = RadiusNeighborsClassifier(\n",
    "    radius=.5, n_jobs=-1\n",
    ").fit(features_standardized, target)\n",
    "\n",
    "# Create two observations\n",
    "new_observation = [[1, 1, 1, 1]]\n",
    "\n",
    "# Predict the class of two observations\n",
    "rnn.predict(new_observation)\n",
    "# کلاس این مشاهده بر اساس تمام مشاهدات داخل شعاع مشخص شده پیش‌بینی می‌شود"
   ]
  },
  {
   "cell_type": "code",
   "execution_count": null,
   "id": "d123b0ce",
   "metadata": {},
   "outputs": [
    {
     "data": {
      "text/plain": [
       "array([[1.03800476, 0.55861082, 1.10378283, 1.18556721],\n",
       "       [0.79566902, 0.32841405, 0.76275827, 1.05393502]])"
      ]
     },
     "execution_count": 19,
     "metadata": {},
     "output_type": "execute_result"
    }
   ],
   "source": [
    "#15.5 Finding Approximate Nearest Neighbors\n",
    "\n",
    "import faiss\n",
    "import numpy as np\n",
    "from sklearn import datasets\n",
    "from sklearn.neighbors import NearestNeighbors\n",
    "from sklearn.preprocessing import StandardScaler\n",
    "\n",
    "# Load data\n",
    "iris = datasets.load_iris()\n",
    "features = iris.data\n",
    "\n",
    "# Create standardizer\n",
    "standardizer = StandardScaler()\n",
    "\n",
    "# Standardize features\n",
    "features_standardized = standardizer.fit_transform(features)\n",
    "\n",
    "# Set faiss parameters\n",
    "n_features = features_standardized.shape[1]\n",
    "nlist = 3  # تعداد خوشه‌ها\n",
    "k = 2  # تعداد همسایه‌های نزدیک که می‌خواهیم پیدا کنیم\n",
    "\n",
    "# Create an IVF index\n",
    "quantizer = faiss.IndexFlatIP(n_features) # محاسبه فاصله داخلی بین بردارها\n",
    "index = faiss.IndexIVFFlat(quantizer, n_features, nlist) # شاخصی که با خوشه بندی فضا جستجو سرعت را بالا میبره\n",
    "\n",
    "# Train the index and add feature vectors\n",
    "index.train(features_standardized)\n",
    "index.add(features_standardized)\n",
    "\n",
    "# Create an observation\n",
    "new_observation = np.array([[1, 1, 1, 1]])\n",
    "\n",
    "# Search the index for the 2 nearest neighbors\n",
    "distances, indices = index.search(new_observation, k)\n",
    "\n",
    "# Show the feature vectors for the two nearest neighbors\n",
    "np.array([list(features_standardized[i]) for i in indices[0]])"
   ]
  },
  {
   "cell_type": "code",
   "execution_count": null,
   "id": "7313a45b",
   "metadata": {},
   "outputs": [
    {
     "name": "stdout",
     "output_type": "stream",
     "text": [
      "Recall @k=10: 0.0%\n"
     ]
    }
   ],
   "source": [
    "#15.6 Evaluating Approximate Nearest Neighbors\n",
    "\n",
    "# Load libraries\n",
    "import faiss\n",
    "import numpy as np\n",
    "from sklearn import datasets\n",
    "from sklearn.neighbors import NearestNeighbors\n",
    "from sklearn.preprocessing import StandardScaler\n",
    "\n",
    "# Number of nearest neighbors\n",
    "k = 10\n",
    "\n",
    "# Load data\n",
    "iris = datasets.load_iris()\n",
    "features = iris.data\n",
    "\n",
    "# Create standardizer\n",
    "standardizer = StandardScaler()\n",
    "\n",
    "# Standardize features\n",
    "features_standardized = standardizer.fit_transform(features)\n",
    "\n",
    "# Create KNN with 10 NN\n",
    "nearest_neighbors = NearestNeighbors(n_neighbors=k).fit(features_standardized)\n",
    "\n",
    "# Set faiss parameters\n",
    "n_features = features_standardized.shape[1]\n",
    "nlist = 3\n",
    "\n",
    "# Create an IVF index\n",
    "quantizer = faiss.IndexFlatIP(n_features)\n",
    "index = faiss.IndexIVFFlat(quantizer, n_features, nlist)\n",
    "\n",
    "# Train the index and add feature vectors\n",
    "index.train(features_standardized)\n",
    "index.add(features_standardized)\n",
    "index.nprobe = 1 # در زمان جست‌وجو فقط ۱ خوشه کاوش می‌ شود\n",
    "\n",
    "# Create an observation\n",
    "new_observation = np.array([[1, 1, 1 ,1]])\n",
    "\n",
    "# Find distances and indices of the observation's exact nearest neighbors\n",
    "knn_distances, knn_indices = nearest_neighbors.kneighbors(new_observation)\n",
    "\n",
    "# Search the index for the two nearest neighbors\n",
    "ivf_distances, ivf_indices = index.search(new_observation, k)\n",
    "\n",
    "# Get the set overlap\n",
    "recalled_items = set(list(knn_distances[0])) & set(list(ivf_distances[0]))\n",
    "\n",
    "# Print the recall\n",
    "print(f\"Recall @k={k}: {len(recalled_items)/k * 100}%\")"
   ]
  },
  {
   "cell_type": "code",
   "execution_count": null,
   "id": "aaa60529",
   "metadata": {},
   "outputs": [],
   "source": []
  }
 ],
 "metadata": {
  "kernelspec": {
   "display_name": "py-venv",
   "language": "python",
   "name": "python3"
  },
  "language_info": {
   "codemirror_mode": {
    "name": "ipython",
    "version": 3
   },
   "file_extension": ".py",
   "mimetype": "text/x-python",
   "name": "python",
   "nbconvert_exporter": "python",
   "pygments_lexer": "ipython3",
   "version": "3.10.18"
  }
 },
 "nbformat": 4,
 "nbformat_minor": 5
}
