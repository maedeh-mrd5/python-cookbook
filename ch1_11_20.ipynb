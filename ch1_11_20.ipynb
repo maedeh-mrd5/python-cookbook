{
 "cells": [
  {
   "cell_type": "code",
   "execution_count": 25,
   "id": "13da309a",
   "metadata": {},
   "outputs": [
    {
     "name": "stdout",
     "output_type": "stream",
     "text": [
      "[[1 4 7]\n",
      " [2 5 8]\n",
      " [3 6 9]]\n",
      "- - - - - - - - - - - - - -\n",
      "[1 2 3 4 5 6]\n",
      "- - - - - - - - - - - - - -\n",
      "[[1]\n",
      " [2]\n",
      " [3]\n",
      " [4]\n",
      " [5]\n",
      " [6]]\n"
     ]
    }
   ],
   "source": [
    "#Capter 1.11\n",
    "#Transposing a Vector or Matrix\n",
    "\n",
    "import numpy as np\n",
    "\n",
    "matrix = np.array([[1, 2, 3],\n",
    "                    [4, 5, 6],\n",
    "                    [7, 8, 9]])\n",
    "\n",
    "print(matrix.T)\n",
    "print(\"- - - - - - - - - - - - - -\")\n",
    "\n",
    "print(np.array([1, 2, 3, 4, 5, 6]).T)\n",
    "print(\"- - - - - - - - - - - - - -\")\n",
    "\n",
    "print(np.array([[1, 2, 3, 4, 5, 6]]).T)"
   ]
  },
  {
   "cell_type": "code",
   "execution_count": 26,
   "id": "83ea634a",
   "metadata": {},
   "outputs": [
    {
     "name": "stdout",
     "output_type": "stream",
     "text": [
      "[1 2 3 4 5 6 7 8 9]\n",
      "- - - - - - - - - - - - - -\n",
      "[[1 2 3 4 5 6 7 8 9]]\n",
      "- - - - - - - - - - - - - -\n",
      "[array([[1, 2],\n",
      "       [3, 4]]), array([[5, 6],\n",
      "       [7, 8]])]\n",
      "- - - - - - - - - - - - - -\n",
      "[1 2 3 4 5 6 7 8]\n"
     ]
    }
   ],
   "source": [
    "#Capter 1.12\n",
    "# Flattening a Matrix\n",
    "\n",
    "matrix = np.array([[1, 2, 3],\n",
    "                    [4, 5, 6],\n",
    "                    [7, 8, 9]])\n",
    "\n",
    "print(matrix.flatten())\n",
    "print(\"- - - - - - - - - - - - - -\")\n",
    "\n",
    "print(matrix.reshape(1, -1))\n",
    "print(\"- - - - - - - - - - - - - -\")\n",
    "\n",
    "matrix_a = np.array([[1, 2],\n",
    "                     [3, 4]])\n",
    "\n",
    "matrix_b = np.array([[5, 6],\n",
    "                     [7, 8]])\n",
    "\n",
    "matrix_list = [matrix_a, matrix_b]\n",
    "\n",
    "print(matrix_list)\n",
    "print(\"- - - - - - - - - - - - - -\")\n",
    "\n",
    "print(np.ravel(matrix_list))"
   ]
  },
  {
   "cell_type": "code",
   "execution_count": 4,
   "id": "8e68a0bc",
   "metadata": {},
   "outputs": [
    {
     "name": "stdout",
     "output_type": "stream",
     "text": [
      "2\n"
     ]
    }
   ],
   "source": [
    "#Capter 1.13\n",
    "#Finding the Rank of a Matrix\n",
    "\n",
    "matrix = np.array([[1, 1, 1],\n",
    "                    [1, 1, 10],\n",
    "                    [1, 1, 15]])\n",
    "\n",
    "print(np.linalg.matrix_rank(matrix))"
   ]
  },
  {
   "cell_type": "code",
   "execution_count": 27,
   "id": "0c479d70",
   "metadata": {},
   "outputs": [
    {
     "name": "stdout",
     "output_type": "stream",
     "text": [
      "[1 4 9]\n",
      "- - - - - - - - - - - - - -\n",
      "[2 6]\n",
      "- - - - - - - - - - - - - -\n",
      "[2 8]\n"
     ]
    }
   ],
   "source": [
    "#Capter 1.14\n",
    "#Getting the Diagonal of a Matrix\n",
    "\n",
    "matrix = np.array([[1, 2, 3],\n",
    "                    [2, 4, 6],\n",
    "                    [3, 8, 9]])\n",
    "\n",
    "print(matrix.diagonal())\n",
    "print(\"- - - - - - - - - - - - - -\")\n",
    "\n",
    "print(matrix.diagonal(offset=1))\n",
    "print(\"- - - - - - - - - - - - - -\")\n",
    "\n",
    "print(matrix.diagonal(offset=-1))"
   ]
  },
  {
   "cell_type": "code",
   "execution_count": 28,
   "id": "bc38f1bf",
   "metadata": {},
   "outputs": [
    {
     "name": "stdout",
     "output_type": "stream",
     "text": [
      "14\n",
      "- - - - - - - - - - - - - -\n",
      "14\n"
     ]
    }
   ],
   "source": [
    "#Capter 1.15\n",
    "#Calculating the Trace of a Matrix\n",
    "\n",
    "matrix = np.array([[1, 2, 3],\n",
    "                    [2, 4, 6],\n",
    "                    [3, 8, 9]])\n",
    "\n",
    "print(matrix.trace())\n",
    "print(\"- - - - - - - - - - - - - -\")\n",
    "\n",
    "#or \n",
    "print(sum(matrix.diagonal()))"
   ]
  },
  {
   "cell_type": "code",
   "execution_count": 30,
   "id": "ef3dcd34",
   "metadata": {},
   "outputs": [
    {
     "name": "stdout",
     "output_type": "stream",
     "text": [
      "32\n"
     ]
    }
   ],
   "source": [
    "#Capter 1.16\n",
    "#Calculating Dot Products\n",
    "\n",
    "vector_a = np.array([1,2,3])\n",
    "\n",
    "vector_b = np.array([4,5,6])\n",
    "\n",
    "print(np.dot(vector_a, vector_b))"
   ]
  },
  {
   "cell_type": "code",
   "execution_count": 31,
   "id": "96c9579a",
   "metadata": {},
   "outputs": [
    {
     "name": "stdout",
     "output_type": "stream",
     "text": [
      "[[ 2  4  2]\n",
      " [ 2  4  2]\n",
      " [ 2  4 10]]\n",
      "- - - - - - - - - - - - - -\n",
      "[[ 0 -2  0]\n",
      " [ 0 -2  0]\n",
      " [ 0 -2 -6]]\n"
     ]
    }
   ],
   "source": [
    "#Capter 1.17\n",
    "#Adding and Subtracting Matrices\n",
    "\n",
    "matrix_a = np.array([[1, 1, 1],\n",
    "                     [1, 1, 1],\n",
    "                     [1, 1, 2]])\n",
    "\n",
    "matrix_b = np.array([[1, 3, 1],\n",
    "                     [1, 3, 1],\n",
    "                     [1, 3, 8]])\n",
    "\n",
    "print(np.add(matrix_a, matrix_b))\n",
    "print(\"- - - - - - - - - - - - - -\")\n",
    "\n",
    "print(np.subtract(matrix_a, matrix_b))"
   ]
  },
  {
   "cell_type": "code",
   "execution_count": 32,
   "id": "a0d1281a",
   "metadata": {},
   "outputs": [
    {
     "name": "stdout",
     "output_type": "stream",
     "text": [
      "[[2 5]\n",
      " [3 7]]\n",
      "- - - - - - - - - - - - - -\n",
      "[[2 5]\n",
      " [3 7]]\n",
      "- - - - - - - - - - - - - -\n",
      "[[1 3]\n",
      " [1 4]]\n"
     ]
    }
   ],
   "source": [
    "#Capter 1.18\n",
    "# Multiplying Matrices\n",
    "\n",
    "matrix_a = np.array([[1, 1],\n",
    "                     [1, 2]])\n",
    "\n",
    "matrix_b = np.array([[1, 3],\n",
    "                     [1, 2]])\n",
    "\n",
    "print(np.dot(matrix_a, matrix_b))\n",
    "print(\"- - - - - - - - - - - - - -\")\n",
    "\n",
    "#ot\n",
    "print(matrix_a @ matrix_b)\n",
    "print(\"- - - - - - - - - - - - - -\")\n",
    "\n",
    "# Multiply two matrices element-wise\n",
    "print(matrix_a * matrix_b)"
   ]
  },
  {
   "cell_type": "code",
   "execution_count": 33,
   "id": "a76cf6d3",
   "metadata": {},
   "outputs": [
    {
     "name": "stdout",
     "output_type": "stream",
     "text": [
      "[[-1.66666667  1.33333333]\n",
      " [ 0.66666667 -0.33333333]]\n"
     ]
    }
   ],
   "source": [
    "#Capter 1.19\n",
    "#1.19 Inverting a Matrix\n",
    "\n",
    "matrix = np.array([[1, 4],\n",
    "                   [2, 5]])\n",
    "\n",
    "print(np.linalg.inv(matrix))"
   ]
  },
  {
   "cell_type": "code",
   "execution_count": 35,
   "id": "1b395c2a",
   "metadata": {},
   "outputs": [
    {
     "name": "stdout",
     "output_type": "stream",
     "text": [
      "[0.5488135  0.71518937 0.60276338]\n",
      "- - - - - - - - - - - - - -\n",
      "[195 103   9  21  36]\n",
      "- - - - - - - - - - - - - -\n",
      "[-0.29139398 -0.13309028 -0.1730696 ]\n",
      "- - - - - - - - - - - - - -\n",
      "[ 1.46416405 -0.08013416 -0.4356214 ]\n",
      "- - - - - - - - - - - - - -\n",
      "[1.83607876 1.33739616 1.64817187]\n"
     ]
    }
   ],
   "source": [
    "#Capter 1.20\n",
    "#Generating Random Values\n",
    "\n",
    "np.random.seed(0)\n",
    "\n",
    "print(np.random.random(3))\n",
    "print(\"- - - - - - - - - - - - - -\")\n",
    "\n",
    "print(np.random.randint(0, 200, 5))\n",
    "print(\"- - - - - - - - - - - - - -\")\n",
    "\n",
    "# Draw three numbers from a normal distribution with mean 0.0\n",
    "# and standard deviation of 1.0\n",
    "print(np.random.normal(0.0, 1.0, 3))\n",
    "print(\"- - - - - - - - - - - - - -\")\n",
    "\n",
    "## Draw three numbers from a logistic distribution with mean 0.0 and scale of 1.0\n",
    "print(np.random.logistic(0.0, 1.0, 3))\n",
    "print(\"- - - - - - - - - - - - - -\")\n",
    "\n",
    "# Draw three numbers greater than or equal to 1.0 and less than 2.0\n",
    "print(np.random.uniform(1.0, 2.0, 3))\n"
   ]
  }
 ],
 "metadata": {
  "kernelspec": {
   "display_name": "Python 3",
   "language": "python",
   "name": "python3"
  },
  "language_info": {
   "codemirror_mode": {
    "name": "ipython",
    "version": 3
   },
   "file_extension": ".py",
   "mimetype": "text/x-python",
   "name": "python",
   "nbconvert_exporter": "python",
   "pygments_lexer": "ipython3",
   "version": "3.10.11"
  }
 },
 "nbformat": 4,
 "nbformat_minor": 5
}
