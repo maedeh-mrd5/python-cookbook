{
 "cells": [
  {
   "cell_type": "code",
   "execution_count": 1,
   "id": "cee2f254",
   "metadata": {},
   "outputs": [
    {
     "name": "stdout",
     "output_type": "stream",
     "text": [
      "[1 2 3]\n",
      "- - - - - - - - - - - - - -\n",
      "[[1]\n",
      " [2]\n",
      " [3]]\n"
     ]
    }
   ],
   "source": [
    "import numpy as np\n",
    "#Capter 1.1\n",
    "#Creating a Vector\n",
    "vector_row = np.array([1, 2, 3])\n",
    "\n",
    "vector_column = np.array([[1], [2], [3]])\n",
    "\n",
    "print(vector_row)\n",
    "print(\"- - - - - - - - - - - - - -\")\n",
    "\n",
    "print(vector_column)"
   ]
  },
  {
   "cell_type": "code",
   "execution_count": 2,
   "id": "8509e5b7",
   "metadata": {},
   "outputs": [
    {
     "name": "stdout",
     "output_type": "stream",
     "text": [
      "[[1 2]\n",
      " [1 2]\n",
      " [1 2]]\n"
     ]
    }
   ],
   "source": [
    "#Capter 1.2\n",
    "#Creating a Matrix \n",
    "\n",
    "matrix = np.array([[1, 2],\n",
    "                   [1, 2],\n",
    "                   [1, 2]])\n",
    "\n",
    "print(matrix)"
   ]
  },
  {
   "cell_type": "code",
   "execution_count": 5,
   "id": "95137f8e",
   "metadata": {},
   "outputs": [
    {
     "name": "stdout",
     "output_type": "stream",
     "text": [
      "<Compressed Sparse Row sparse matrix of dtype 'int64'\n",
      "\twith 2 stored elements and shape (3, 2)>\n",
      "  Coords\tValues\n",
      "  (1, 1)\t1\n",
      "  (2, 0)\t3\n",
      "- - - - - - - - - - - - - -\n",
      "<Compressed Sparse Column sparse matrix of dtype 'int64'\n",
      "\twith 2 stored elements and shape (3, 10)>\n",
      "  Coords\tValues\n",
      "  (2, 0)\t3\n",
      "  (1, 1)\t1\n"
     ]
    }
   ],
   "source": [
    "#Capter 1.3\n",
    "#Creating a Sparse Matrix\n",
    "import numpy as np\n",
    "from scipy import sparse\n",
    "\n",
    "matrix = np.array([[0, 0], \n",
    "                   [0, 1], \n",
    "                   [3, 0]])\n",
    "\n",
    "matrix_sparse = sparse.csr_matrix(matrix)\n",
    "\n",
    "print(matrix_sparse)\n",
    "print(\"- - - - - - - - - - - - - -\")\n",
    "\n",
    "matrix_large = np.array([[0, 0, 0, 0, 0, 0, 0, 0, 0, 0],\n",
    "                         [0, 1, 0, 0, 0, 0, 0, 0, 0, 0],\n",
    "                         [3, 0, 0, 0, 0, 0, 0, 0, 0, 0]])\n",
    "\n",
    "matrix_large_sparse = sparse.csc_matrix(matrix_large)\n",
    "\n",
    "print(matrix_large_sparse)"
   ]
  },
  {
   "cell_type": "code",
   "execution_count": 6,
   "id": "563c9d48",
   "metadata": {},
   "outputs": [
    {
     "name": "stdout",
     "output_type": "stream",
     "text": [
      "[0. 0. 0. 0. 0.]\n",
      "- - - - - - - - - - - - - -\n",
      "[[1 1 1]\n",
      " [1 1 1]\n",
      " [1 1 1]]\n"
     ]
    }
   ],
   "source": [
    "#Capter 1.4\n",
    "#Preallocating NumPy Arrays\n",
    "\n",
    "vector = np.zeros(shape=5)\n",
    "\n",
    "print(vector)\n",
    "print(\"- - - - - - - - - - - - - -\")\n",
    "\n",
    "matrix = np.full(shape=(3, 3), fill_value=1)\n",
    "\n",
    "print(matrix)"
   ]
  },
  {
   "cell_type": "code",
   "execution_count": 7,
   "id": "7b2130b7",
   "metadata": {},
   "outputs": [
    {
     "name": "stdout",
     "output_type": "stream",
     "text": [
      "3\n",
      "- - - - - - - - - - - - - -\n",
      "5\n",
      "- - - - - - - - - - - - - -\n",
      "[1 2 3 4 5 6]\n",
      "- - - - - - - - - - - - - -\n",
      "[1 2 3]\n",
      "- - - - - - - - - - - - - -\n",
      "[4 5 6]\n",
      "- - - - - - - - - - - - - -\n",
      "6\n",
      "- - - - - - - - - - - - - -\n",
      "[6 5 4 3 2 1]\n",
      "- - - - - - - - - - - - - -\n",
      "[[1 2 3]\n",
      " [4 5 6]]\n",
      "- - - - - - - - - - - - - -\n",
      "[[2]\n",
      " [5]\n",
      " [8]]\n"
     ]
    }
   ],
   "source": [
    "#Capter 1.5\n",
    "#Selecting Elements\n",
    "\n",
    "vector = np.array([1, 2, 3, 4, 5, 6])\n",
    "\n",
    "matrix = np.array([[1, 2, 3],\n",
    "                    [4, 5, 6],\n",
    "                    [7, 8, 9]])\n",
    "\n",
    "print(vector[2])\n",
    "print(\"- - - - - - - - - - - - - -\")\n",
    "print(matrix[1, 1])\n",
    "print(\"- - - - - - - - - - - - - -\")\n",
    "print(vector[:])\n",
    "print(\"- - - - - - - - - - - - - -\")\n",
    "print(vector[:3])\n",
    "print(\"- - - - - - - - - - - - - -\")\n",
    "print(vector[3:])\n",
    "print(\"- - - - - - - - - - - - - -\")\n",
    "print(vector[-1])\n",
    "print(\"- - - - - - - - - - - - - -\")\n",
    "print(vector[::-1])\n",
    "print(\"- - - - - - - - - - - - - -\")\n",
    "print(matrix[:2,:])\n",
    "print(\"- - - - - - - - - - - - - -\")\n",
    "print(matrix[:,1:2])"
   ]
  },
  {
   "cell_type": "code",
   "execution_count": 8,
   "id": "7526e339",
   "metadata": {},
   "outputs": [
    {
     "name": "stdout",
     "output_type": "stream",
     "text": [
      "(3, 4)\n",
      "- - - - - - - - - - - - - -\n",
      "12\n",
      "- - - - - - - - - - - - - -\n",
      "2\n"
     ]
    }
   ],
   "source": [
    "#Capter 1.6\n",
    "#Describing a Matrix\n",
    "\n",
    "matrix = np.array([[1, 2, 3, 4],\n",
    "                    [5, 6, 7, 8],\n",
    "                    [9, 10, 11, 12]])\n",
    "\n",
    "print(matrix.shape)\n",
    "print(\"- - - - - - - - - - - - - -\")\n",
    "print(matrix.size)\n",
    "print(\"- - - - - - - - - - - - - -\")\n",
    "print(matrix.ndim)\n"
   ]
  },
  {
   "cell_type": "code",
   "execution_count": 9,
   "id": "b3bf58a7",
   "metadata": {},
   "outputs": [
    {
     "name": "stdout",
     "output_type": "stream",
     "text": [
      "[[101 102 103]\n",
      " [104 105 106]\n",
      " [107 108 109]]\n",
      "- - - - - - - - - - - - - -\n",
      "[[101 102 103]\n",
      " [104 105 106]\n",
      " [107 108 109]]\n"
     ]
    }
   ],
   "source": [
    "#Capter 1.7\n",
    "#Applying Functions over Each Element\n",
    "\n",
    "matrix = np.array([[1, 2, 3],\n",
    "                    [4, 5, 6],\n",
    "                    [7, 8, 9]])\n",
    "\n",
    "add_100 = lambda i: i+100\n",
    "\n",
    "vectorized_add_100 = np.vectorize(add_100)\n",
    "\n",
    "print(vectorized_add_100(matrix))\n",
    "print(\"- - - - - - - - - - - - - -\")\n",
    "\n",
    "#or \n",
    "print(matrix + 100)\n"
   ]
  },
  {
   "cell_type": "code",
   "execution_count": 10,
   "id": "33c9d5f2",
   "metadata": {},
   "outputs": [
    {
     "name": "stdout",
     "output_type": "stream",
     "text": [
      "9\n",
      "- - - - - - - - - - - - - -\n",
      "1\n",
      "- - - - - - - - - - - - - -\n",
      "[7 8 9]\n",
      "- - - - - - - - - - - - - -\n",
      "[3 6 9]\n"
     ]
    }
   ],
   "source": [
    "#Capter 1.8\n",
    "#Finding the Maximum and Minimum Values\n",
    "\n",
    "matrix = np.array([[1, 2, 3],\n",
    "                    [4, 5, 6],\n",
    "                    [7, 8, 9]])\n",
    "\n",
    "print(np.max(matrix))\n",
    "print(\"- - - - - - - - - - - - - -\")\n",
    "\n",
    "print(np.min(matrix))\n",
    "print(\"- - - - - - - - - - - - - -\")\n",
    "\n",
    "print(np.max(matrix, axis=0))\n",
    "print(\"- - - - - - - - - - - - - -\")\n",
    "\n",
    "print(np.max(matrix, axis=1))"
   ]
  },
  {
   "cell_type": "code",
   "execution_count": 11,
   "id": "499a83ff",
   "metadata": {},
   "outputs": [
    {
     "name": "stdout",
     "output_type": "stream",
     "text": [
      "5.0\n",
      "- - - - - - - - - - - - - -\n",
      "6.666666666666667\n",
      "- - - - - - - - - - - - - -\n",
      "2.581988897471611\n",
      "- - - - - - - - - - - - - -\n",
      "[4. 5. 6.]\n"
     ]
    }
   ],
   "source": [
    "#Capter 1.9\n",
    "#Calculating the Average, Variance, and Standard Deviation\n",
    "\n",
    "matrix = np.array([[1, 2, 3],\n",
    "                    [4, 5, 6],\n",
    "                    [7, 8, 9]])\n",
    "\n",
    "print(np.mean(matrix))\n",
    "print(\"- - - - - - - - - - - - - -\")\n",
    "\n",
    "print(np.var(matrix))\n",
    "print(\"- - - - - - - - - - - - - -\")\n",
    "\n",
    "print(np.std(matrix))\n",
    "print(\"- - - - - - - - - - - - - -\")\n",
    "\n",
    "print(np.mean(matrix, axis=0))"
   ]
  },
  {
   "cell_type": "code",
   "execution_count": 12,
   "id": "d5b86d20",
   "metadata": {},
   "outputs": [
    {
     "name": "stdout",
     "output_type": "stream",
     "text": [
      "[[ 1  2  3  4  5  6]\n",
      " [ 7  8  9 10 11 12]]\n",
      "- - - - - - - - - - - - - -\n",
      "[[ 1  2  3  4  5  6  7  8  9 10 11 12]]\n",
      "- - - - - - - - - - - - - -\n",
      "[ 1  2  3  4  5  6  7  8  9 10 11 12]\n"
     ]
    }
   ],
   "source": [
    "#Capter 1.10\n",
    "#Reshaping Arrays\n",
    "\n",
    "matrix = np.array([[1, 2, 3],\n",
    "                    [4, 5, 6],\n",
    "                    [7, 8, 9],\n",
    "                    [10, 11, 12]])\n",
    "\n",
    "print(matrix.reshape(2, 6))\n",
    "print(\"- - - - - - - - - - - - - -\")\n",
    "\n",
    "print(matrix.reshape(1, -1))\n",
    "print(\"- - - - - - - - - - - - - -\")\n",
    "\n",
    "print(matrix.reshape(12))\n"
   ]
  }
 ],
 "metadata": {
  "kernelspec": {
   "display_name": "Python 3",
   "language": "python",
   "name": "python3"
  },
  "language_info": {
   "codemirror_mode": {
    "name": "ipython",
    "version": 3
   },
   "file_extension": ".py",
   "mimetype": "text/x-python",
   "name": "python",
   "nbconvert_exporter": "python",
   "pygments_lexer": "ipython3",
   "version": "3.10.11"
  }
 },
 "nbformat": 4,
 "nbformat_minor": 5
}
