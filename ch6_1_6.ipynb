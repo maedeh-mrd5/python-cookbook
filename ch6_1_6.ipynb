{
 "cells": [
  {
   "cell_type": "code",
   "execution_count": 9,
   "id": "c0e371af",
   "metadata": {},
   "outputs": [
    {
     "name": "stdout",
     "output_type": "stream",
     "text": [
      "['Interrobang. By Aishwarya Henriette', 'Parking And Going. By Karl Gautier', 'Today Is The night. By Jarek Prakash']\n",
      "- - - - - - - - - - - - - - - -\n"
     ]
    },
    {
     "data": {
      "text/plain": [
       "['Interrobang By Aishwarya Henriette',\n",
       " 'Parking And Going By Karl Gautier',\n",
       " 'Today Is The night By Jarek Prakash']"
      ]
     },
     "execution_count": 9,
     "metadata": {},
     "output_type": "execute_result"
    }
   ],
   "source": [
    "#6.1 Cleaning Text\n",
    "\n",
    "# Create text\n",
    "text_data = [\"          Interrobang. By Aishwarya Henriette     \",\n",
    "\"Parking And Going. By Karl Gautier\",\n",
    "\"    Today Is The night. By Jarek Prakash    \"]\n",
    "\n",
    "# Strip whitespaces\n",
    "strip_whitespace = [string.strip() for string in text_data]\n",
    "\n",
    "# Show text\n",
    "print(strip_whitespace)\n",
    "print(\"- - - - - - - - - - - - - - - -\")\n",
    "\n",
    "# Remove periods\n",
    "remove_periods = [string.replace(\".\", \"\") for string in strip_whitespace]\n",
    "\n",
    "# Show text\n",
    "remove_periods"
   ]
  },
  {
   "cell_type": "code",
   "execution_count": 11,
   "id": "86f3371d",
   "metadata": {},
   "outputs": [
    {
     "data": {
      "text/plain": [
       "['INTERROBANG BY AISHWARYA HENRIETTE',\n",
       " 'PARKING AND GOING BY KARL GAUTIER',\n",
       " 'TODAY IS THE NIGHT BY JAREK PRAKASH']"
      ]
     },
     "execution_count": 11,
     "metadata": {},
     "output_type": "execute_result"
    }
   ],
   "source": [
    "# Create function\n",
    "def capializer(string: str) -> str:\n",
    "    return string.upper()\n",
    "\n",
    "# Apply function\n",
    "[capializer(string) for string in remove_periods]"
   ]
  },
  {
   "cell_type": "code",
   "execution_count": 13,
   "id": "43a4fbe3",
   "metadata": {},
   "outputs": [
    {
     "data": {
      "text/plain": [
       "['XXXXXXXXXXX XX XXXXXXXXX XXXXXXXXX',\n",
       " 'XXXXXXX XXX XXXXX XX XXXX XXXXXXX',\n",
       " 'XXXXX XX XXX XXXXX XX XXXXX XXXXXXX']"
      ]
     },
     "execution_count": 13,
     "metadata": {},
     "output_type": "execute_result"
    }
   ],
   "source": [
    "# Import library\n",
    "import re\n",
    "\n",
    "# Create function\n",
    "def replace_letter_with_X(string: str) -> str:\n",
    "    return re.sub(r\"[a-zA-Z]\", \"X\",string)\n",
    "\n",
    "# Apply function\n",
    "[replace_letter_with_X(string) for string in remove_periods]"
   ]
  },
  {
   "cell_type": "code",
   "execution_count": 31,
   "id": "93402792",
   "metadata": {},
   "outputs": [
    {
     "name": "stdout",
     "output_type": "stream",
     "text": [
      "5|True|False|False|False|b'machine learning in python cookbook'|machine learning in python cookbook\n"
     ]
    }
   ],
   "source": [
    "# Define a string\n",
    "s = \"machine learning in python cookbook\"\n",
    "\n",
    "# Find the first index of the letter \"n\"\n",
    "find_n = s.find(\"n\")\n",
    "\n",
    "# Whether or not the string starts with \"m\"\n",
    "starts_with_m = s.startswith(\"m\")\n",
    "\n",
    "# Whether or not the string ends with \"python\"\n",
    "ends_with_python = s.endswith(\"python\")\n",
    "\n",
    "# Is the string alphanumeric\n",
    "is_alnum = s.isalnum() \n",
    "\n",
    "# Is it composed of only alphabetical characters (not including spaces)\n",
    "is_alpha = s.isalpha()\n",
    "\n",
    "# Encode as utf-8\n",
    "encode_as_utf8 = s.encode(\"utf-8\")\n",
    "\n",
    "# Decode the same utf-8\n",
    "decode = encode_as_utf8.decode(\"utf-8\")\n",
    "\n",
    "print(\n",
    "find_n,\n",
    "starts_with_m,\n",
    "ends_with_python,\n",
    "is_alnum,\n",
    "is_alpha,\n",
    "encode_as_utf8,\n",
    "decode,\n",
    "sep = \"|\"\n",
    ")"
   ]
  },
  {
   "cell_type": "code",
   "execution_count": 33,
   "id": "5b1c4bec",
   "metadata": {},
   "outputs": [
    {
     "data": {
      "text/plain": [
       "'Masego Azra'"
      ]
     },
     "execution_count": 33,
     "metadata": {},
     "output_type": "execute_result"
    }
   ],
   "source": [
    "#6.2 Parsing and Cleaning HTML\n",
    "\n",
    "# Load library\n",
    "from bs4 import BeautifulSoup\n",
    "\n",
    "# Create some HTML code\n",
    "html = \"<div class='full_name'>\"\\\n",
    "\"<span style='font-weight:bold'>Masego\"\\\n",
    "\"</span> Azra</div>\"\n",
    "\n",
    "# Parse html\n",
    "soup = BeautifulSoup(html, \"lxml\")\n",
    "\n",
    "# Find the div with the class \"full_name\", show text\n",
    "soup.find(\"div\", {\"class\" : \"full_name\"}).text"
   ]
  },
  {
   "cell_type": "code",
   "execution_count": 39,
   "id": "c54ce53e",
   "metadata": {},
   "outputs": [
    {
     "data": {
      "text/plain": [
       "['Hi I Love This Song', '10000 Agree LoveIT', 'Right']"
      ]
     },
     "execution_count": 39,
     "metadata": {},
     "output_type": "execute_result"
    }
   ],
   "source": [
    "#6.3 Removing Punctuation\n",
    "\n",
    "# Load libraries\n",
    "import unicodedata\n",
    "import sys\n",
    "\n",
    "# Create text\n",
    "text_data = ['Hi!!!! I. Love. This. Song....',\n",
    "'10000% Agree!!!! #LoveIT',\n",
    "'Right?!?!']\n",
    "\n",
    "# Create a dictionary of punctuation characters\n",
    "punctuation = dict.fromkeys(\n",
    "    (i for i in range(sys.maxunicode)\n",
    "    if unicodedata.category(chr(i)).startswith('P')\n",
    "    ), None\n",
    ")\n",
    "\n",
    "# For each string, remove any punctuation characters\n",
    "[string.translate(punctuation) for string in text_data]\n"
   ]
  },
  {
   "cell_type": "code",
   "execution_count": 48,
   "id": "dab1ab4f",
   "metadata": {},
   "outputs": [
    {
     "data": {
      "text/plain": [
       "['The', 'science', 'of', 'today', 'is', 'the', 'technology', 'of', 'tomorrow']"
      ]
     },
     "execution_count": 48,
     "metadata": {},
     "output_type": "execute_result"
    }
   ],
   "source": [
    "#6.4 Tokenizing Text\n",
    "\n",
    "# Load library\n",
    "from nltk.tokenize import word_tokenize\n",
    "\n",
    "# Create text\n",
    "string = \"The science of today is the technology of tomorrow\"\n",
    "\n",
    "# Tokenize words\n",
    "word_tokenize(string)"
   ]
  },
  {
   "cell_type": "code",
   "execution_count": 50,
   "id": "41b92460",
   "metadata": {},
   "outputs": [
    {
     "data": {
      "text/plain": [
       "['The science of today is the technology of tomorrow.', 'Tomorrow is today.']"
      ]
     },
     "execution_count": 50,
     "metadata": {},
     "output_type": "execute_result"
    }
   ],
   "source": [
    "# Load library\n",
    "from nltk.tokenize import sent_tokenize\n",
    "\n",
    "# Create text\n",
    "string = \"The science of today is the technology of tomorrow. Tomorrow is today.\"\n",
    "\n",
    "#Create text\n",
    "sent_tokenize(string)"
   ]
  },
  {
   "cell_type": "code",
   "execution_count": null,
   "id": "cca03102",
   "metadata": {},
   "outputs": [
    {
     "data": {
      "text/plain": [
       "['going', 'go', 'store', 'park']"
      ]
     },
     "execution_count": 53,
     "metadata": {},
     "output_type": "execute_result"
    }
   ],
   "source": [
    "#6.5 Removing Stop Words\n",
    "\n",
    "# Load library\n",
    "from nltk.corpus import stopwords\n",
    "\n",
    "# Create word tokens\n",
    "tokenizes_words = ['i',\n",
    "                   'am',\n",
    "                   'going',\n",
    "                   'to',\n",
    "                   'go',\n",
    "                   'to',\n",
    "                   'the',\n",
    "                   'store',\n",
    "                   'and',\n",
    "                   'park']\n",
    "\n",
    "# Load stop words\n",
    "stop_words = stopwords.words('english')\n",
    "#for example and, on, wich -> don't have important information\n",
    "\n",
    "# Remove stop words\n",
    "[word for word in tokenizes_words if word not in stop_words]\n"
   ]
  },
  {
   "cell_type": "code",
   "execution_count": 54,
   "id": "fa39bfbe",
   "metadata": {},
   "outputs": [
    {
     "data": {
      "text/plain": [
       "['a', 'about', 'above', 'after', 'again']"
      ]
     },
     "execution_count": 54,
     "metadata": {},
     "output_type": "execute_result"
    }
   ],
   "source": [
    "# Show stop words\n",
    "stop_words[:5]"
   ]
  },
  {
   "cell_type": "code",
   "execution_count": null,
   "id": "371ec8dc",
   "metadata": {},
   "outputs": [
    {
     "data": {
      "text/plain": [
       "['i', 'am', 'humbl', 'by', 'thi', 'tradit', 'meet']"
      ]
     },
     "execution_count": 55,
     "metadata": {},
     "output_type": "execute_result"
    }
   ],
   "source": [
    "#6.6 Stemming Words\n",
    "\n",
    "# Load library\n",
    "from nltk.stem.porter import PorterStemmer\n",
    "\n",
    "# Create word tokens\n",
    "tokenized_words = ['i', 'am', 'humbled', 'by', 'this', 'traditional', 'meeting']\n",
    "\n",
    "# Create stemmer\n",
    "porter  = PorterStemmer()\n",
    "\n",
    "# Apply stemmer\n",
    "[porter.stem(word) for word in tokenized_words]\n",
    "#It is used to reduce words to their root form.\n"
   ]
  }
 ],
 "metadata": {
  "kernelspec": {
   "display_name": "Python 3",
   "language": "python",
   "name": "python3"
  },
  "language_info": {
   "codemirror_mode": {
    "name": "ipython",
    "version": 3
   },
   "file_extension": ".py",
   "mimetype": "text/x-python",
   "name": "python",
   "nbconvert_exporter": "python",
   "pygments_lexer": "ipython3",
   "version": "3.10.11"
  }
 },
 "nbformat": 4,
 "nbformat_minor": 5
}
