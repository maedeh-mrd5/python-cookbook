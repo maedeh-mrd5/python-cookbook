{
 "cells": [
  {
   "cell_type": "code",
   "execution_count": 1,
   "id": "5b561d53",
   "metadata": {},
   "outputs": [],
   "source": [
    "#20.1 Creating a Tensor\n",
    "\n",
    "# Load library\n",
    "import torch\n",
    "\n",
    "# Create a vector as a row\n",
    "tensor_row = torch.tensor([1, 2, 3])\n",
    "\n",
    "# Create a vector as a column\n",
    "tensor_column = torch.tensor(\n",
    "    [\n",
    "        [1],\n",
    "        [2],\n",
    "        [3]\n",
    "    ]\n",
    ")"
   ]
  },
  {
   "cell_type": "code",
   "execution_count": 2,
   "id": "5246ed24",
   "metadata": {},
   "outputs": [],
   "source": [
    "#20.2 Creating a Tensor from NumPy\n",
    "\n",
    "# Import libraries\n",
    "import numpy as np\n",
    "import torch\n",
    "\n",
    "# Create a NumPy array\n",
    "vector_row = np.array([1, 2, 3])\n",
    "\n",
    "# Create a tensor from a NumPy array\n",
    "tensor_row = torch.from_numpy(vector_row)"
   ]
  },
  {
   "cell_type": "code",
   "execution_count": 5,
   "id": "ba85a5fd",
   "metadata": {},
   "outputs": [
    {
     "name": "stdout",
     "output_type": "stream",
     "text": [
      "<class 'torch.Tensor'>\n",
      "<class 'torch.Tensor'>\n"
     ]
    }
   ],
   "source": [
    "#20.3 Creating a Sparse Tensor\n",
    "\n",
    "# Import libraries\n",
    "import torch\n",
    "\n",
    "# Create a tensor\n",
    "tensor = torch.tensor(\n",
    "    [\n",
    "        [0, 0],\n",
    "        [0, 1],\n",
    "        [3, 0]\n",
    "    ]\n",
    ")\n",
    "\n",
    "# Create a sparse tensor from a regular tensor\n",
    "sparse_tensor = tensor.to_sparse()\n",
    "\n",
    "print(type(tensor))\n",
    "print(type(sparse_tensor))"
   ]
  },
  {
   "cell_type": "code",
   "execution_count": 22,
   "id": "60fea050",
   "metadata": {},
   "outputs": [
    {
     "name": "stdout",
     "output_type": "stream",
     "text": [
      "tensor(3)\n",
      "tensor(5)\n",
      "tensor([1, 2, 3, 4, 5, 6])\n",
      "tensor([1, 2, 3])\n",
      "tensor([4, 5, 6])\n",
      "tensor(6)\n",
      "tensor([[1, 2, 3],\n",
      "        [4, 5, 6]])\n",
      "tensor([[2],\n",
      "        [5],\n",
      "        [8]])\n"
     ]
    },
    {
     "data": {
      "text/plain": [
       "tensor([6, 5, 4, 3, 2, 1])"
      ]
     },
     "execution_count": 22,
     "metadata": {},
     "output_type": "execute_result"
    }
   ],
   "source": [
    "#20.4 Selecting Elements in a Tensor\n",
    "\n",
    "# Load library\n",
    "import torch\n",
    "\n",
    "# Create vector tensor\n",
    "vector = torch.tensor([1, 2, 3, 4, 5, 6])\n",
    "\n",
    "# Create matrix tensor\n",
    "matrix = torch.tensor(\n",
    "    [\n",
    "        [1, 2, 3],\n",
    "        [4, 5, 6],\n",
    "        [7, 8, 9]\n",
    "    ]\n",
    ")\n",
    "\n",
    "# Select third element of vector\n",
    "print(vector[2])\n",
    "\n",
    "# Select second row, second column\n",
    "print(matrix[1,1])\n",
    "\n",
    "# Select all elements of a vector\n",
    "print(vector[:])\n",
    "\n",
    "# Select everything up to and including the third element\n",
    "print(vector[:3])\n",
    "\n",
    "# Select everything after the third element\n",
    "print(vector[3:])\n",
    "\n",
    "# Select the last element\n",
    "print(vector[-1])\n",
    "\n",
    "# Select the first two rows and all columns of a matrix\n",
    "print(matrix[:2, :])\n",
    "\n",
    "# Select all rows and the second column\n",
    "print(matrix[:, 1:2])\n",
    "\n",
    "# Reverse the vector\n",
    "# vector[::-1] #value error\n",
    "\n",
    "vector.flip(dims=(-1,))"
   ]
  },
  {
   "cell_type": "code",
   "execution_count": null,
   "id": "2b5bbb98",
   "metadata": {},
   "outputs": [
    {
     "name": "stdout",
     "output_type": "stream",
     "text": [
      "torch.Size([2, 3])\n",
      "torch.int64\n",
      "torch.strided\n",
      "cpu\n"
     ]
    }
   ],
   "source": [
    "#20.5 Describing a Tensor\n",
    "\n",
    "# Load library\n",
    "import torch\n",
    "\n",
    "# Create a tensor\n",
    "tensor = torch.tensor([[1, 2, 3], [1, 2, 3]])\n",
    "\n",
    "# Get the shape of the tensor\n",
    "print(tensor.shape)\n",
    "\n",
    "# Get the data type of items in the tensor\n",
    "print(tensor.dtype)\n",
    "\n",
    "# Get the layout of the tensor\n",
    "print(tensor.layout) #نحوه ذخیره داده‌ها در حافظه\n",
    "\n",
    "# Get the device being used by the tensor\n",
    "print(tensor.device)"
   ]
  },
  {
   "cell_type": "code",
   "execution_count": 30,
   "id": "7393c14e",
   "metadata": {},
   "outputs": [
    {
     "data": {
      "text/plain": [
       "tensor([100, 200, 300])"
      ]
     },
     "execution_count": 30,
     "metadata": {},
     "output_type": "execute_result"
    }
   ],
   "source": [
    "#20.6 Applying Operations to Elements\n",
    "\n",
    "# Load library\n",
    "import torch\n",
    "\n",
    "# Create a tensor\n",
    "tensor = torch.tensor([1, 2, 3])\n",
    "\n",
    "# Broadcast an arithmetic operation to all elements in a tensor\n",
    "tensor * 100\n"
   ]
  },
  {
   "cell_type": "code",
   "execution_count": 31,
   "id": "e4de5d10",
   "metadata": {},
   "outputs": [
    {
     "name": "stdout",
     "output_type": "stream",
     "text": [
      "tensor(3)\n",
      "tensor(1)\n"
     ]
    }
   ],
   "source": [
    "#20.7 Finding the Maximum and Minimum Values\n",
    "\n",
    "# Load library\n",
    "import torch\n",
    "\n",
    "# Create a tensor\n",
    "torch.tensor([1, 2, 3])\n",
    "\n",
    "# Find the largest value\n",
    "print(tensor.max())\n",
    "\n",
    "# Find the smallest value\n",
    "print(tensor.min())"
   ]
  },
  {
   "cell_type": "code",
   "execution_count": 32,
   "id": "7ee67eb0",
   "metadata": {},
   "outputs": [
    {
     "data": {
      "text/plain": [
       "tensor(5)"
      ]
     },
     "execution_count": 32,
     "metadata": {},
     "output_type": "execute_result"
    }
   ],
   "source": [
    "# Create a multidimensional tensor\n",
    "tensor = torch.tensor([[1, 2, 3], [1, 2, 5]])\n",
    "\n",
    "# Find the largest value\n",
    "tensor.max()"
   ]
  },
  {
   "cell_type": "code",
   "execution_count": 33,
   "id": "0efedabb",
   "metadata": {},
   "outputs": [
    {
     "data": {
      "text/plain": [
       "tensor([[ 1,  2,  3,  4,  5,  6],\n",
       "        [ 7,  8,  9, 10, 11, 12]])"
      ]
     },
     "execution_count": 33,
     "metadata": {},
     "output_type": "execute_result"
    }
   ],
   "source": [
    "#20.8 Reshaping Tensors\n",
    "\n",
    "# Load library\n",
    "import torch\n",
    "\n",
    "# Create 4x3 tensor\n",
    "tensor = torch.tensor([[1, 2, 3], [4, 5, 6], [7, 8, 9], [10, 11, 12]])\n",
    "\n",
    "# Reshape tensor into 2x6 tensor\n",
    "tensor.reshape(2,6)"
   ]
  },
  {
   "cell_type": "code",
   "execution_count": 35,
   "id": "0aea2dc1",
   "metadata": {},
   "outputs": [
    {
     "data": {
      "text/plain": [
       "tensor([[[1],\n",
       "         [2],\n",
       "         [3]]])"
      ]
     },
     "execution_count": 35,
     "metadata": {},
     "output_type": "execute_result"
    }
   ],
   "source": [
    "#20.9 Transposing a Tensor\n",
    "\n",
    "# Load library\n",
    "import torch\n",
    "\n",
    "# Create a two-dimensional tensor\n",
    "tensor = torch.tensor([[[1, 2, 3]]])\n",
    "\n",
    "# Transpose it\n",
    "tensor.mT"
   ]
  },
  {
   "cell_type": "code",
   "execution_count": 37,
   "id": "3b6de5bf",
   "metadata": {},
   "outputs": [
    {
     "data": {
      "text/plain": [
       "tensor([[[1]],\n",
       "\n",
       "        [[2]],\n",
       "\n",
       "        [[3]]])"
      ]
     },
     "execution_count": 37,
     "metadata": {},
     "output_type": "execute_result"
    }
   ],
   "source": [
    "tensor.permute(*torch.arange(tensor.ndim - 1, -1, -1))"
   ]
  },
  {
   "cell_type": "code",
   "execution_count": 39,
   "id": "dcd37368",
   "metadata": {},
   "outputs": [
    {
     "data": {
      "text/plain": [
       "tensor(32)"
      ]
     },
     "execution_count": 39,
     "metadata": {},
     "output_type": "execute_result"
    }
   ],
   "source": [
    "# 20.10 Flattening a Tensor\n",
    "\n",
    "# Load library\n",
    "import torch\n",
    "\n",
    "# Create tensor\n",
    "tensor_1 = torch.tensor([1, 2, 3])\n",
    "\n",
    "# Create another tensor\n",
    "tensor_2 = torch.tensor([4, 5, 6])\n",
    "\n",
    "# Calculate the dot product of the two tensors\n",
    "tensor_1.dot(tensor_2)"
   ]
  },
  {
   "cell_type": "code",
   "execution_count": 47,
   "id": "6d90d507",
   "metadata": {},
   "outputs": [
    {
     "name": "stdout",
     "output_type": "stream",
     "text": [
      "tensor([ 4, 10, 18])\n",
      "tensor([5, 7, 9])\n",
      "tensor([-3, -3, -3])\n",
      "tensor([0.2500, 0.4000, 0.5000])\n"
     ]
    }
   ],
   "source": [
    "#20.12 Multiplying Tensors\n",
    "\n",
    "# Load library\n",
    "import torch\n",
    "\n",
    "# Create one tensor\n",
    "tensor_1 = torch.tensor([1, 2, 3])\n",
    "\n",
    "# Create another tensor\n",
    "tensor_2 = torch.tensor([4, 5, 6])\n",
    "\n",
    "# Multiply the two tensors\n",
    "print(tensor_1 * tensor_2)\n",
    "\n",
    "# Add one tensor to another\n",
    "print(tensor_1 + tensor_2)\n",
    "\n",
    "# Subtract one tensor from another\n",
    "print(tensor_1 - tensor_2)\n",
    "\n",
    "# Divide one tensor by another\n",
    "print(tensor_1 / tensor_2)"
   ]
  }
 ],
 "metadata": {
  "kernelspec": {
   "display_name": "py-venv",
   "language": "python",
   "name": "python3"
  },
  "language_info": {
   "codemirror_mode": {
    "name": "ipython",
    "version": 3
   },
   "file_extension": ".py",
   "mimetype": "text/x-python",
   "name": "python",
   "nbconvert_exporter": "python",
   "pygments_lexer": "ipython3",
   "version": "3.10.18"
  }
 },
 "nbformat": 4,
 "nbformat_minor": 5
}
