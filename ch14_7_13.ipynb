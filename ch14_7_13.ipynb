{
 "cells": [
  {
   "cell_type": "code",
   "execution_count": null,
   "id": "c7881b44",
   "metadata": {},
   "outputs": [
    {
     "data": {
      "image/png": "[encoded data removed]",
      "text/plain": [
       "<Figure size 640x480 with 1 Axes>"
      ]
     },
     "metadata": {},
     "output_type": "display_data"
    }
   ],
   "source": [
    "#14.7 Identifying Important Features in Random Forests\n",
    "\n",
    "# Load libraries\n",
    "import numpy as np\n",
    "import matplotlib.pyplot as plt\n",
    "from sklearn.ensemble import RandomForestClassifier\n",
    "from sklearn import datasets\n",
    "\n",
    "# Load data\n",
    "iris = datasets.load_iris()\n",
    "features, target = iris.data, iris.target\n",
    "\n",
    "# Create random forest classifier object\n",
    "randomforest = RandomForestClassifier(random_state=0, n_jobs=-1)\n",
    "\n",
    "# Train model\n",
    "model = randomforest.fit(features, target)\n",
    "\n",
    "# Calculate feature importances\n",
    "importances = model.feature_importances_\n",
    "\n",
    "# Sort feature importances in descending order\n",
    "indices = np.argsort(importances)[::-1] \n",
    "\n",
    "# Rearrange feature names so they match the sorted feature importances\n",
    "names = [iris.feature_names[i] for i in indices]\n",
    "\n",
    "# Create plot\n",
    "plt.figure()\n",
    "\n",
    "# Create plot title\n",
    "plt.title(\"Feature Importance\")\n",
    "\n",
    "# Add bars\n",
    "plt.bar(range(features.shape[1]), importances[indices])\n",
    "\n",
    "# Add feature names as x-axis labels\n",
    "plt.xticks(range(features.shape[1]), names, rotation = 90)\n",
    "\n",
    "# Show plot\n",
    "plt.show()"
   ]
  },
  {
   "cell_type": "code",
   "execution_count": 2,
   "id": "af2f8ef0",
   "metadata": {},
   "outputs": [
    {
     "data": {
      "text/plain": [
       "array([0.09090795, 0.02453104, 0.46044474, 0.42411627])"
      ]
     },
     "execution_count": 2,
     "metadata": {},
     "output_type": "execute_result"
    }
   ],
   "source": [
    "# View feature importances\n",
    "model.feature_importances_"
   ]
  },
  {
   "cell_type": "code",
   "execution_count": 3,
   "id": "9280b8e0",
   "metadata": {},
   "outputs": [],
   "source": [
    "#14.8 Selecting Important Features in Random Forests\n",
    "\n",
    "# Load libraries\n",
    "from sklearn.ensemble import RandomForestClassifier\n",
    "from sklearn import datasets\n",
    "from sklearn.feature_selection import SelectFromModel\n",
    "\n",
    "# Load data\n",
    "iris = datasets.load_iris()\n",
    "features, target = iris.data, iris.target\n",
    "\n",
    "# Create random forest classifier\n",
    "randomforest = RandomForestClassifier(random_state=0, n_jobs=-1)\n",
    "\n",
    "# Create object that selects features with importance greater\n",
    "# than or equal to a threshold\n",
    "Selector  = SelectFromModel(randomforest, threshold=0.3)\n",
    "\n",
    "# Create new feature matrix using selector\n",
    "features_important = Selector.fit_transform(features, target)\n",
    "\n",
    "# Train random forest using most important features\n",
    "model = randomforest.fit(features_important, target)\n"
   ]
  },
  {
   "cell_type": "code",
   "execution_count": null,
   "id": "2588ae81",
   "metadata": {},
   "outputs": [],
   "source": [
    "#14.9 Handling Imbalanced Classes\n",
    "\n",
    "# Load libraries\n",
    "from sklearn.ensemble import RandomForestClassifier\n",
    "from sklearn import datasets\n",
    "\n",
    "# Load data\n",
    "iris = datasets.load_iris()\n",
    "features, target = iris.data, iris.target\n",
    "\n",
    "# Make class highly imbalanced by removing first 40 observations\n",
    "features = features[40:, :]\n",
    "target = target[40:]\n",
    "\n",
    "# Create target vector indicating if class 0, otherwise 1\n",
    "target = np.where((target == 0),0 ,1)\n",
    "\n",
    "# Create random forest classifier object\n",
    "randomforest = RandomForestClassifier(\n",
    "    random_state=0, n_jobs=-1, class_weight='balanced'\n",
    ")\n",
    "\n",
    "# Train model\n",
    "model = randomforest.fit(features, target)\n"
   ]
  },
  {
   "cell_type": "code",
   "execution_count": 4,
   "id": "59dfb8b6",
   "metadata": {},
   "outputs": [
    {
     "data": {
      "text/plain": [
       "5.5"
      ]
     },
     "execution_count": 4,
     "metadata": {},
     "output_type": "execute_result"
    }
   ],
   "source": [
    "# Calculate weight for small class\n",
    "110/(2*10)"
   ]
  },
  {
   "cell_type": "code",
   "execution_count": 5,
   "id": "808719a8",
   "metadata": {},
   "outputs": [
    {
     "data": {
      "text/plain": [
       "0.55"
      ]
     },
     "execution_count": 5,
     "metadata": {},
     "output_type": "execute_result"
    }
   ],
   "source": [
    "# Calculate weight for large class\n",
    "110/(2*100)"
   ]
  },
  {
   "cell_type": "code",
   "execution_count": null,
   "id": "6683e2f1",
   "metadata": {},
   "outputs": [],
   "source": [
    "#14.10 Controlling Tree Size\n",
    "\n",
    "# Load libraries\n",
    "from sklearn.tree import DecisionTreeClassifier\n",
    "from sklearn import datasets\n",
    "\n",
    "# Load data\n",
    "iris = datasets.load_iris()\n",
    "features = iris.data\n",
    "target = iris.target\n",
    "\n",
    "# Create decision tree classifier object\n",
    "decisiontree = DecisionTreeClassifier(random_state=0,\n",
    "                                      max_depth=None, # حداکثر عمق درخت\n",
    "                                      min_samples_split=2, # حداقل تعداد نمونه‌ها در یک گره قبل از اینکه آن گره تقسیم شود\n",
    "                                      min_samples_leaf=1, # حداقل نمونه در برگ\n",
    "                                      min_weight_fraction_leaf=0, # حداقل وزن نسبی در برگ\n",
    "                                      max_leaf_nodes=None,  # حداکثر تعداد برگ‌ها\n",
    "                                      min_impurity_decrease=0 # حداقل کاهش ناخالصی برای انجام تقسیم\n",
    "                                      )\n",
    "\n",
    "# Train model\n",
    "model = decisiontree.fit(features, target)"
   ]
  },
  {
   "cell_type": "code",
   "execution_count": null,
   "id": "f50b4c3c",
   "metadata": {},
   "outputs": [],
   "source": [
    "#14.11 Improving Performance Through Boosting\n",
    "\n",
    "# Load libraries\n",
    "from sklearn.ensemble import AdaBoostClassifier\n",
    "from sklearn import datasets\n",
    "\n",
    "# Load data\n",
    "iris = datasets.load_iris()\n",
    "features = iris.data\n",
    "target = iris.target\n",
    "\n",
    "# Create adaboost tree classifier object\n",
    "adaboost = AdaBoostClassifier(random_state=0)\n",
    "\n",
    "# Train model\n",
    "model = adaboost.fit(features, target)"
   ]
  },
  {
   "cell_type": "code",
   "execution_count": null,
   "id": "2b121fe6",
   "metadata": {},
   "outputs": [],
   "source": [
    "#14.12 Training an XGBoost Model\n",
    "\n",
    "# Load libraries\n",
    "import xgboost as xgb\n",
    "from sklearn.metrics import classification_report\n",
    "from numpy import argmax\n",
    "\n",
    "# Load data\n",
    "iris = datasets.load_iris()\n",
    "features = iris.data\n",
    "target = iris.target\n",
    "\n",
    "# Create dataset\n",
    "xgb_train = xgb.DMatrix(features, label = target)\n",
    "\n",
    "# Define parameters\n",
    "param = {\n",
    "    'objective': 'multi:softprob', # برای دسته‌بندی چندکلاسه\n",
    "    'num_class': 3\n",
    "}\n",
    "\n",
    "# Train model\n",
    "gbm = xgb.train(param, xgb_train)\n",
    "\n",
    "# Get predictions\n",
    "predictions = argmax(gbm.predict(xgb_train), axis=1)\n",
    "# axis = 1:\n",
    "# در هر ردیف بیشترین مقدار را پیدا می‌کند و اندیس ستون (کلاس) متناظر را برمی‌گرداند\n",
    "\n",
    "# Get a classification report\n",
    "print(classification_report(target, predictions))"
   ]
  },
  {
   "cell_type": "code",
   "execution_count": 11,
   "id": "480fb6a5",
   "metadata": {},
   "outputs": [
    {
     "name": "stdout",
     "output_type": "stream",
     "text": [
      "              precision    recall  f1-score   support\n",
      "\n",
      "           0       1.00      1.00      1.00        50\n",
      "           1       1.00      1.00      1.00        50\n",
      "           2       1.00      1.00      1.00        50\n",
      "\n",
      "    accuracy                           1.00       150\n",
      "   macro avg       1.00      1.00      1.00       150\n",
      "weighted avg       1.00      1.00      1.00       150\n",
      "\n"
     ]
    }
   ],
   "source": [
    "# Load libraries\n",
    "import lightgbm as lgb\n",
    "from sklearn import datasets, preprocessing\n",
    "from sklearn.metrics import classification_report\n",
    "from numpy import argmax\n",
    "\n",
    "# Load data\n",
    "iris = datasets.load_iris()\n",
    "features = iris.data\n",
    "target = iris.target\n",
    "\n",
    "# Create dataset\n",
    "lgb_train = lgb.Dataset(features, target)\n",
    "\n",
    "# Define parameters\n",
    "params = {\n",
    "'objective': 'multiclass',\n",
    "'num_class': 3,\n",
    "'verbose': -1,\n",
    "}\n",
    "\n",
    "# Train model\n",
    "gbm = lgb.train(params, lgb_train)\n",
    "\n",
    "# Get predictions\n",
    "predictions = argmax(gbm.predict(features), axis=1)\n",
    "\n",
    "# Get a classification report\n",
    "print(classification_report(target, predictions))"
   ]
  }
 ],
 "metadata": {
  "kernelspec": {
   "display_name": "py-venv",
   "language": "python",
   "name": "python3"
  },
  "language_info": {
   "codemirror_mode": {
    "name": "ipython",
    "version": 3
   },
   "file_extension": ".py",
   "mimetype": "text/x-python",
   "name": "python",
   "nbconvert_exporter": "python",
   "pygments_lexer": "ipython3",
   "version": "3.10.18"
  }
 },
 "nbformat": 4,
 "nbformat_minor": 5
}
